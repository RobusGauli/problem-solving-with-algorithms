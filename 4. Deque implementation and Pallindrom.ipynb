{
 "cells": [
  {
   "cell_type": "code",
   "execution_count": 57,
   "metadata": {
    "collapsed": false
   },
   "outputs": [],
   "source": [
    "class Deque(object):\n",
    "    ''' implementatiion of deque'''\n",
    "    \n",
    "    def __init__(self, iterable=None):\n",
    "        self._alist = list(iterable) if iterable else []\n",
    "        \n",
    "    def push_right(self, item):\n",
    "        self._alist.append(item)\n",
    "        \n",
    "    def push_left(self, item):\n",
    "        self._alist.insert(0, item)\n",
    "        \n",
    "    def pop_right(self):\n",
    "        if len(self._alist) > 0:\n",
    "            return self._alist.pop()\n",
    "        \n",
    "        \n",
    "    def pop_left(self):\n",
    "        if len(self._alist) > 0:\n",
    "            return self._alist.pop(0)\n",
    "        \n",
    "        \n",
    "    def seek_right(self):\n",
    "        if len(self._alist) > 0:\n",
    "            return self._alist[len(self._alist) -1]\n",
    "        \n",
    "        \n",
    "    def seek_left(self):\n",
    "        if len(self._alist) > 0:\n",
    "            return self._alist[0]\n",
    "        \n",
    "        \n",
    "    def __len__(self):\n",
    "        return len(self._alist)\n",
    "    \n",
    "    def __contains__(self, item):\n",
    "        return item in self._alist\n",
    "    \n",
    "    def __repr__(self):\n",
    "        return ', '.join(str(item) for item in self._alist)\n"
   ]
  },
  {
   "cell_type": "code",
   "execution_count": 43,
   "metadata": {
    "collapsed": true
   },
   "outputs": [],
   "source": [
    "#problem is that you, solve the pallindrome"
   ]
  },
  {
   "cell_type": "code",
   "execution_count": 60,
   "metadata": {
    "collapsed": true
   },
   "outputs": [],
   "source": [
    "def pallindrome_checker(word):\n",
    "    \n",
    "    #create a deque using passing the word\n",
    "    d = Deque(word)\n",
    "    \n",
    "    is_pal = True\n",
    "    while True:\n",
    "        if len(d) == 1:\n",
    "            break\n",
    "        \n",
    "        f = d.pop_left()\n",
    "        l = d.pop_right()\n",
    "        if f != l:\n",
    "            is_pal = False\n",
    "            break\n",
    "    \n",
    "    return is_pal, d\n",
    "        \n",
    "    "
   ]
  },
  {
   "cell_type": "code",
   "execution_count": 61,
   "metadata": {
    "collapsed": false
   },
   "outputs": [
    {
     "data": {
      "text/plain": [
       "(True, d)"
      ]
     },
     "execution_count": 61,
     "metadata": {},
     "output_type": "execute_result"
    }
   ],
   "source": [
    "pallindrome_checker('radar')"
   ]
  }
 ],
 "metadata": {
  "anaconda-cloud": {},
  "kernelspec": {
   "display_name": "Python [conda root]",
   "language": "python",
   "name": "conda-root-py"
  },
  "language_info": {
   "codemirror_mode": {
    "name": "ipython",
    "version": 3
   },
   "file_extension": ".py",
   "mimetype": "text/x-python",
   "name": "python",
   "nbconvert_exporter": "python",
   "pygments_lexer": "ipython3",
   "version": "3.5.2"
  }
 },
 "nbformat": 4,
 "nbformat_minor": 1
}
