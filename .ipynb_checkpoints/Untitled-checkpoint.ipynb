{
 "cells": [
  {
   "cell_type": "code",
   "execution_count": 2,
   "metadata": {
    "collapsed": true
   },
   "outputs": [],
   "source": [
    "#STACK -- > LIFO --> Last in first out\n",
    "#STRUCURE AND OPERATION ON THE STACK\n",
    "\n",
    "#Stack() creates a empty stack\n",
    "#push(item ) adds the new item in the stack\n",
    "#pop() remvoes the item from the end\n",
    "#is_empty() checks if the stack is empty\n",
    "#size() returs the size of the stack"
   ]
  },
  {
   "cell_type": "code",
   "execution_count": 99,
   "metadata": {
    "collapsed": true
   },
   "outputs": [],
   "source": [
    "class Stack(object):\n",
    "    def __init__(self, iterable=None):\n",
    "        self._items = list(iterable) if iterable else []\n",
    "        \n",
    "    def push(self, item):\n",
    "        self._items.append(item)\n",
    "        #does not return anython\n",
    "        \n",
    "    def pop(self):\n",
    "        l = len(self._items)\n",
    "        if l < 1:\n",
    "            raise Exception('Stack is already empty')\n",
    "        item = self._items[l-1]\n",
    "        del self._items[l-1]\n",
    "        return item\n",
    "    \n",
    "    def is_empty(self):\n",
    "        return len(self._items) == 0\n",
    "    \n",
    "    def size(self):\n",
    "        return len(self._items)\n",
    "         \n",
    "    def peek(self):\n",
    "        '''return the top item from stack but does not remove it'''\n",
    "        return self._items[len(self._items)-1]\n",
    "    \n",
    "    def __contains__(self, item):\n",
    "        return item in self._items\n",
    "    \n",
    "    def __repr__(self):\n",
    "        return ' , '.join([str(i) for i in self._items])\n",
    "    "
   ]
  },
  {
   "cell_type": "code",
   "execution_count": 100,
   "metadata": {
    "collapsed": true
   },
   "outputs": [],
   "source": [
    "s = Stack()\n",
    "s.push(45)\n"
   ]
  },
  {
   "cell_type": "code",
   "execution_count": 102,
   "metadata": {
    "collapsed": true
   },
   "outputs": [],
   "source": [
    "#problem . balanced paranthesis checker\n",
    "\n",
    "def parenChecker(brackets):\n",
    "    s  = Stack()\n",
    "    index = 0\n",
    "    balanced = True\n",
    "    while index < len(brackets) and balanced:\n",
    "        symbol = brackets[index]\n",
    "        if symbol == '(':\n",
    "            s.push(symbol)\n",
    "        elif symbol == ')' and '(' in s:\n",
    "            s.pop()\n",
    "        else:\n",
    "            balanced = False\n",
    "        \n",
    "        index += 1\n",
    "    if s.is_empty() and balanced:\n",
    "        return True\n",
    "    else:\n",
    "        return False"
   ]
  },
  {
   "cell_type": "code",
   "execution_count": 103,
   "metadata": {
    "collapsed": false
   },
   "outputs": [
    {
     "data": {
      "text/plain": [
       "True"
      ]
     },
     "execution_count": 103,
     "metadata": {},
     "output_type": "execute_result"
    }
   ],
   "source": [
    "parenChecker('(())')"
   ]
  },
  {
   "cell_type": "code",
   "execution_count": 116,
   "metadata": {
    "collapsed": false
   },
   "outputs": [
    {
     "data": {
      "text/plain": [
       "False"
      ]
     },
     "execution_count": 116,
     "metadata": {},
     "output_type": "execute_result"
    }
   ],
   "source": [
    "parenChecker('()())')"
   ]
  }
 ],
 "metadata": {
  "kernelspec": {
   "display_name": "Python [conda root]",
   "language": "python",
   "name": "conda-root-py"
  },
  "language_info": {
   "codemirror_mode": {
    "name": "ipython",
    "version": 3
   },
   "file_extension": ".py",
   "mimetype": "text/x-python",
   "name": "python",
   "nbconvert_exporter": "python",
   "pygments_lexer": "ipython3",
   "version": "3.5.2"
  }
 },
 "nbformat": 4,
 "nbformat_minor": 1
}
