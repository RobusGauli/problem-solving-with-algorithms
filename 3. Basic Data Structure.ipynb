{
 "cells": [
  {
   "cell_type": "code",
   "execution_count": 2,
   "metadata": {
    "collapsed": true
   },
   "outputs": [],
   "source": [
    "#STACK -- > LIFO --> Last in first out\n",
    "#STRUCURE AND OPERATION ON THE STACK\n",
    "\n",
    "#Stack() creates a empty stack\n",
    "#push(item ) adds the new item in the stack\n",
    "#pop() remvoes the item from the end\n",
    "#is_empty() checks if the stack is empty\n",
    "#size() returs the size of the stack"
   ]
  },
  {
   "cell_type": "code",
   "execution_count": 199,
   "metadata": {
    "collapsed": true
   },
   "outputs": [],
   "source": [
    "class Stack(object):\n",
    "    def __init__(self, iterable=None):\n",
    "        self._items = list(iterable) if iterable else []\n",
    "        \n",
    "    def push(self, item):\n",
    "        self._items.append(item)\n",
    "        #does not return anython\n",
    "        \n",
    "    def pop(self):\n",
    "        l = len(self._items)\n",
    "        if l < 1:\n",
    "            raise Exception('Stack is already empty')\n",
    "        item = self._items[l-1]\n",
    "        del self._items[l-1]\n",
    "        return item\n",
    "    \n",
    "    def is_empty(self):\n",
    "        return len(self._items) == 0\n",
    "    \n",
    "    def size(self):\n",
    "        return len(self._items)\n",
    "         \n",
    "    def peek(self):\n",
    "        '''return the top item from stack but does not remove it'''\n",
    "        if len(self._items) > 0:\n",
    "            return self._items[len(self._items)-1]\n",
    "        else:\n",
    "            raise ValueError('Stack is empty')\n",
    "    \n",
    "    def __contains__(self, item):\n",
    "        return item in self._items\n",
    "    \n",
    "    def __repr__(self):\n",
    "        return ' , '.join([str(i) for i in self._items])\n",
    "    "
   ]
  },
  {
   "cell_type": "code",
   "execution_count": 200,
   "metadata": {
    "collapsed": true
   },
   "outputs": [],
   "source": [
    "s = Stack()\n",
    "s.push(45)\n"
   ]
  },
  {
   "cell_type": "code",
   "execution_count": null,
   "metadata": {
    "collapsed": true
   },
   "outputs": [],
   "source": [
    "#the idea behind the paren checking is that\n",
    "#the symbol to be popped out must matches the last inserted opposite symbol\n",
    "\n",
    "#for exmaple: if we are to pop { , the symbol we are "
   ]
  },
  {
   "cell_type": "code",
   "execution_count": 201,
   "metadata": {
    "collapsed": true
   },
   "outputs": [],
   "source": [
    "#problem . balanced paranthesis checker\n",
    "\n",
    "def parenChecker(brackets):\n",
    "    '''initiate the stack strucuture'''\n",
    "    s  = Stack()\n",
    "    index = 0\n",
    "    balanced = True\n",
    "    while index < len(brackets) and balanced:\n",
    "        symbol = brackets[index]\n",
    "        if symbol == '(':\n",
    "            #push the symbol if opening\n",
    "            s.push(symbol)\n",
    "            \n",
    "        elif symbol == ')' and '(' in s:\n",
    "            #only pop out of the stack if there is opening bracket \n",
    "            s.pop()\n",
    "        else:\n",
    "            #if there is no anyother case\n",
    "            balanced = False\n",
    "        \n",
    "        index += 1\n",
    "    #finally if stack is empty and balanced = True \n",
    "    #return true\n",
    "    \n",
    "    if s.is_empty() and balanced:\n",
    "        return True\n",
    "    else:\n",
    "        return False"
   ]
  },
  {
   "cell_type": "code",
   "execution_count": 202,
   "metadata": {
    "collapsed": false
   },
   "outputs": [
    {
     "data": {
      "text/plain": [
       "False"
      ]
     },
     "execution_count": 202,
     "metadata": {},
     "output_type": "execute_result"
    }
   ],
   "source": [
    "parenChecker('())')"
   ]
  },
  {
   "cell_type": "code",
   "execution_count": 213,
   "metadata": {
    "collapsed": false
   },
   "outputs": [],
   "source": [
    "#problem ;balanced checker with all {}[] and ()\n",
    "\n",
    "def opposite_match(to_match, match):\n",
    "    '''a function that checks the opposite parathesis\n",
    "        Example : if to_match== [\n",
    "        then match must be ] and the function must return true'''\n",
    "    to_matches = list('([{')\n",
    "    matches = list(')]}')\n",
    "    \n",
    "    return to_matches.index(to_match) == matches.index(match)\n",
    "    \n",
    "def checker(symbols):\n",
    "    \n",
    "    s = Stack()\n",
    "    balanced = True\n",
    "    for symbol in symbols:\n",
    "        \n",
    "        if symbol in '{[(':\n",
    "            \n",
    "            s.push(symbol)\n",
    "        elif symbol in '}])' and not s.is_empty() and opposite_match(s.peek(), symbol) :\n",
    "            #if stack is not empty and symbol to be popped out is opposite of the sybol \n",
    "            #for example : {}\n",
    "            #then symbol is popped only when symbol to be popped out of the stack matches the symbol that causes the popping\n",
    "            s.pop()\n",
    "            \n",
    "        else:\n",
    "            \n",
    "            balanced = False\n",
    "            \n",
    "    return balanced and s.is_empty()\n",
    "\n"
   ]
  },
  {
   "cell_type": "code",
   "execution_count": 208,
   "metadata": {
    "collapsed": false
   },
   "outputs": [
    {
     "data": {
      "text/plain": [
       "True"
      ]
     },
     "execution_count": 208,
     "metadata": {},
     "output_type": "execute_result"
    }
   ],
   "source": [
    "checker('{}')"
   ]
  },
  {
   "cell_type": "code",
   "execution_count": 209,
   "metadata": {
    "collapsed": false
   },
   "outputs": [
    {
     "data": {
      "text/plain": [
       "True"
      ]
     },
     "execution_count": 209,
     "metadata": {},
     "output_type": "execute_result"
    }
   ],
   "source": [
    "checker('{()}{}{}{}')"
   ]
  },
  {
   "cell_type": "code",
   "execution_count": 210,
   "metadata": {
    "collapsed": false
   },
   "outputs": [
    {
     "data": {
      "text/plain": [
       "False"
      ]
     },
     "execution_count": 210,
     "metadata": {},
     "output_type": "execute_result"
    }
   ],
   "source": [
    "checker('{}{})')"
   ]
  },
  {
   "cell_type": "code",
   "execution_count": 212,
   "metadata": {
    "collapsed": false
   },
   "outputs": [
    {
     "data": {
      "text/plain": [
       "True"
      ]
     },
     "execution_count": 212,
     "metadata": {},
     "output_type": "execute_result"
    }
   ],
   "source": [
    "checker('{}{}[]')"
   ]
  }
 ],
 "metadata": {
  "kernelspec": {
   "display_name": "Python [conda root]",
   "language": "python",
   "name": "conda-root-py"
  },
  "language_info": {
   "codemirror_mode": {
    "name": "ipython",
    "version": 3
   },
   "file_extension": ".py",
   "mimetype": "text/x-python",
   "name": "python",
   "nbconvert_exporter": "python",
   "pygments_lexer": "ipython3",
   "version": "3.5.2"
  }
 },
 "nbformat": 4,
 "nbformat_minor": 1
}
