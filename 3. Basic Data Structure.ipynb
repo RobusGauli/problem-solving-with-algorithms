{
 "cells": [
  {
   "cell_type": "code",
   "execution_count": 2,
   "metadata": {
    "collapsed": true
   },
   "outputs": [],
   "source": [
    "#STACK -- > LIFO --> Last in first out\n",
    "#STRUCURE AND OPERATION ON THE STACK\n",
    "\n",
    "#Stack() creates a empty stack\n",
    "#push(item ) adds the new item in the stack\n",
    "#pop() remvoes the item from the end\n",
    "#is_empty() checks if the stack is empty\n",
    "#size() returs the size of the stack"
   ]
  },
  {
   "cell_type": "code",
   "execution_count": 199,
   "metadata": {
    "collapsed": true
   },
   "outputs": [],
   "source": [
    "class Stack(object):\n",
    "    def __init__(self, iterable=None):\n",
    "        self._items = list(iterable) if iterable else []\n",
    "        \n",
    "    def push(self, item):\n",
    "        self._items.append(item)\n",
    "        #does not return anython\n",
    "        \n",
    "    def pop(self):\n",
    "        l = len(self._items)\n",
    "        if l < 1:\n",
    "            raise Exception('Stack is already empty')\n",
    "        item = self._items[l-1]\n",
    "        del self._items[l-1]\n",
    "        return item\n",
    "    \n",
    "    def is_empty(self):\n",
    "        return len(self._items) == 0\n",
    "    \n",
    "    def size(self):\n",
    "        return len(self._items)\n",
    "         \n",
    "    def peek(self):\n",
    "        '''return the top item from stack but does not remove it'''\n",
    "        if len(self._items) > 0:\n",
    "            return self._items[len(self._items)-1]\n",
    "        else:\n",
    "            raise ValueError('Stack is empty')\n",
    "    \n",
    "    def __contains__(self, item):\n",
    "        return item in self._items\n",
    "    \n",
    "    def __repr__(self):\n",
    "        return ' , '.join([str(i) for i in self._items])\n",
    "    "
   ]
  },
  {
   "cell_type": "code",
   "execution_count": 200,
   "metadata": {
    "collapsed": true
   },
   "outputs": [],
   "source": [
    "s = Stack()\n",
    "s.push(45)\n"
   ]
  },
  {
   "cell_type": "code",
   "execution_count": 214,
   "metadata": {
    "collapsed": true
   },
   "outputs": [],
   "source": [
    "#the idea behind the paren checking is that\n",
    "#the symbol to be popped out must matches the last inserted opposite symbol\n",
    "\n",
    "#for exmaple: if we are to pop { , the symbol we are comparing must\n",
    "#be }, only then we are allowed to pop the symbol\n",
    "\n",
    "#and also we should make sure that symbol to be popped is there isn the stack"
   ]
  },
  {
   "cell_type": "code",
   "execution_count": 201,
   "metadata": {
    "collapsed": true
   },
   "outputs": [],
   "source": [
    "#problem . balanced paranthesis checker\n",
    "\n",
    "def parenChecker(brackets):\n",
    "    '''initiate the stack strucuture'''\n",
    "    s  = Stack()\n",
    "    index = 0\n",
    "    balanced = True\n",
    "    while index < len(brackets) and balanced:\n",
    "        symbol = brackets[index]\n",
    "        if symbol == '(':\n",
    "            #push the symbol if opening\n",
    "            s.push(symbol)\n",
    "            \n",
    "        elif symbol == ')' and '(' in s:\n",
    "            #only pop out of the stack if there is opening bracket \n",
    "            s.pop()\n",
    "        else:\n",
    "            #if there is no anyother case\n",
    "            balanced = False\n",
    "        \n",
    "        index += 1\n",
    "    #finally if stack is empty and balanced = True \n",
    "    #return true\n",
    "    \n",
    "    if s.is_empty() and balanced:\n",
    "        return True\n",
    "    else:\n",
    "        return False"
   ]
  },
  {
   "cell_type": "code",
   "execution_count": 202,
   "metadata": {
    "collapsed": false
   },
   "outputs": [
    {
     "data": {
      "text/plain": [
       "False"
      ]
     },
     "execution_count": 202,
     "metadata": {},
     "output_type": "execute_result"
    }
   ],
   "source": [
    "parenChecker('())')"
   ]
  },
  {
   "cell_type": "code",
   "execution_count": 213,
   "metadata": {
    "collapsed": false
   },
   "outputs": [],
   "source": [
    "#problem ;balanced checker with all {}[] and ()\n",
    "\n",
    "def opposite_match(to_match, match):\n",
    "    '''a function that checks the opposite parathesis\n",
    "        Example : if to_match== [\n",
    "        then match must be ] and the function must return true'''\n",
    "    to_matches = list('([{')\n",
    "    matches = list(')]}')\n",
    "    \n",
    "    return to_matches.index(to_match) == matches.index(match)\n",
    "    \n",
    "def checker(symbols):\n",
    "    \n",
    "    s = Stack()\n",
    "    balanced = True\n",
    "    for symbol in symbols:\n",
    "        \n",
    "        if symbol in '{[(':\n",
    "            \n",
    "            s.push(symbol)\n",
    "        elif symbol in '}])' and not s.is_empty() and opposite_match(s.peek(), symbol) :\n",
    "            #if stack is not empty and symbol to be popped out is opposite of the sybol \n",
    "            #for example : {}\n",
    "            #then symbol is popped only when symbol to be popped out of the stack matches the symbol that causes the popping\n",
    "            s.pop()\n",
    "            \n",
    "        else:\n",
    "            \n",
    "            balanced = False\n",
    "            \n",
    "    return balanced and s.is_empty()\n",
    "\n"
   ]
  },
  {
   "cell_type": "code",
   "execution_count": 208,
   "metadata": {
    "collapsed": false
   },
   "outputs": [
    {
     "data": {
      "text/plain": [
       "True"
      ]
     },
     "execution_count": 208,
     "metadata": {},
     "output_type": "execute_result"
    }
   ],
   "source": [
    "checker('{}')"
   ]
  },
  {
   "cell_type": "code",
   "execution_count": 209,
   "metadata": {
    "collapsed": false
   },
   "outputs": [
    {
     "data": {
      "text/plain": [
       "True"
      ]
     },
     "execution_count": 209,
     "metadata": {},
     "output_type": "execute_result"
    }
   ],
   "source": [
    "checker('{()}{}{}{}')"
   ]
  },
  {
   "cell_type": "code",
   "execution_count": 210,
   "metadata": {
    "collapsed": false
   },
   "outputs": [
    {
     "data": {
      "text/plain": [
       "False"
      ]
     },
     "execution_count": 210,
     "metadata": {},
     "output_type": "execute_result"
    }
   ],
   "source": [
    "checker('{}{})')"
   ]
  },
  {
   "cell_type": "code",
   "execution_count": 212,
   "metadata": {
    "collapsed": false
   },
   "outputs": [
    {
     "data": {
      "text/plain": [
       "True"
      ]
     },
     "execution_count": 212,
     "metadata": {},
     "output_type": "execute_result"
    }
   ],
   "source": [
    "checker('{}{}[]')"
   ]
  },
  {
   "cell_type": "code",
   "execution_count": 1,
   "metadata": {
    "collapsed": true
   },
   "outputs": [],
   "source": [
    "#QUEUE ABSTRACT DATA TYPE\n",
    "#queue abstract data type is defined by following operation\n",
    "\n",
    "#enque() causes the item to be pushed to the infront of the list\n",
    "#dequeu() pops the first item that was inserted into the data structure\n",
    "#size() return the size of the list\n",
    "#is_empty() returns if strucure is empty\n",
    "#Enque() creates a new Enque instance"
   ]
  },
  {
   "cell_type": "code",
   "execution_count": 33,
   "metadata": {
    "collapsed": true
   },
   "outputs": [],
   "source": [
    "##Implementation of queue\n",
    "class Queue(object):\n",
    "    \n",
    "    def __init__(self, iterable=None):\n",
    "        self._list = list(iterable) if iterable else []\n",
    "        \n",
    "    def enque(self, item):\n",
    "        #adds the item to the front of queue\n",
    "        self._list.insert(0, item)\n",
    "        \n",
    "    def deque(self):\n",
    "        #pops of thitem from the queue\n",
    "        if len(self._list) > 0:\n",
    "            return self._list.pop()\n",
    "        else:\n",
    "            raise Exception('Queue is empty')\n",
    "    \n",
    "    def size(self):\n",
    "        return len(self._list)\n",
    "    \n",
    "    def __repr__(self):\n",
    "        return ', '.join(str(item) for item in self._list)\n",
    "        "
   ]
  },
  {
   "cell_type": "code",
   "execution_count": 34,
   "metadata": {
    "collapsed": true
   },
   "outputs": [],
   "source": [
    "q = Queue([4,5,6,78])"
   ]
  },
  {
   "cell_type": "code",
   "execution_count": 35,
   "metadata": {
    "collapsed": false
   },
   "outputs": [
    {
     "data": {
      "text/plain": [
       "4, 5, 6, 78"
      ]
     },
     "execution_count": 35,
     "metadata": {},
     "output_type": "execute_result"
    }
   ],
   "source": [
    "q"
   ]
  },
  {
   "cell_type": "code",
   "execution_count": 36,
   "metadata": {
    "collapsed": true
   },
   "outputs": [],
   "source": [
    "q.enque(45)"
   ]
  },
  {
   "cell_type": "code",
   "execution_count": 37,
   "metadata": {
    "collapsed": false
   },
   "outputs": [
    {
     "data": {
      "text/plain": [
       "45, 4, 5, 6, 78"
      ]
     },
     "execution_count": 37,
     "metadata": {},
     "output_type": "execute_result"
    }
   ],
   "source": [
    "q"
   ]
  },
  {
   "cell_type": "code",
   "execution_count": 38,
   "metadata": {
    "collapsed": false
   },
   "outputs": [
    {
     "data": {
      "text/plain": [
       "78"
      ]
     },
     "execution_count": 38,
     "metadata": {},
     "output_type": "execute_result"
    }
   ],
   "source": [
    "q.deque()"
   ]
  },
  {
   "cell_type": "code",
   "execution_count": 39,
   "metadata": {
    "collapsed": false
   },
   "outputs": [
    {
     "data": {
      "text/plain": [
       "45, 4, 5, 6"
      ]
     },
     "execution_count": 39,
     "metadata": {},
     "output_type": "execute_result"
    }
   ],
   "source": [
    "q"
   ]
  },
  {
   "cell_type": "code",
   "execution_count": 40,
   "metadata": {
    "collapsed": true
   },
   "outputs": [],
   "source": [
    "#HOt potato simulation"
   ]
  },
  {
   "cell_type": "code",
   "execution_count": 50,
   "metadata": {
    "collapsed": true
   },
   "outputs": [],
   "source": [
    "def circulation_simulation(items , cycle):\n",
    "    q = Queue(items)\n",
    "    while True:\n",
    "        if q.size() == 1:\n",
    "            break\n",
    "        for i in range(cycle):\n",
    "            #take the last item from the queue\n",
    "            item = q.deque()\n",
    "            #insert the last item that was poped to the start of the queue\n",
    "            q.enque(item)\n",
    "        #after the first cycle remove the item in the last of the queue\n",
    "        q.deque()\n",
    "    return q.deque(), q"
   ]
  },
  {
   "cell_type": "code",
   "execution_count": 75,
   "metadata": {
    "collapsed": false
   },
   "outputs": [
    {
     "data": {
      "text/plain": [
       "(34, )"
      ]
     },
     "execution_count": 75,
     "metadata": {},
     "output_type": "execute_result"
    }
   ],
   "source": [
    "circulation_simulation((i for i in range(40)),7)"
   ]
  },
  {
   "cell_type": "code",
   "execution_count": 149,
   "metadata": {
    "collapsed": true
   },
   "outputs": [],
   "source": [
    "class Task(object):\n",
    "    def __init__(self, pages, time_stamp):\n",
    "        self.pages = pages\n",
    "        self.time_stamp = time_stamp\n",
    "        \n",
    "    def get_pages(self):\n",
    "        return self.pages\n",
    "    \n",
    "    def get_time_stamp(self):\n",
    "        return self.time_stamp\n",
    "    \n",
    "    def get_wait_time(self, current_time):\n",
    "        return current_time - self.time_stamp\n",
    "        "
   ]
  },
  {
   "cell_type": "code",
   "execution_count": 153,
   "metadata": {
    "collapsed": true
   },
   "outputs": [],
   "source": [
    "from random import randrange\n",
    "class Printer(object):\n",
    "    \n",
    "    def __init__(self, ppm):\n",
    "        self.ppm = ppm\n",
    "        self.task = None\n",
    "        self.time_remaining = 0\n",
    "        \n",
    "    def set_task(self, task):\n",
    "        self.task = task\n",
    "        self.time_remaining = randrange(1, 20)\n",
    "        \n",
    "    def tick(self):\n",
    "        #tick the time_remaiingn to 0 if there is a task \n",
    "        \n",
    "        if self.task:\n",
    "            self.time_remaining -= 1\n",
    "    \n",
    "    #check to see if the task is complete\n",
    "    def is_complete(self):\n",
    "        return self.time_remaining <= 0\n",
    "        \n",
    "    def has_task(self):\n",
    "        return self.task != None\n",
    "            "
   ]
  },
  {
   "cell_type": "code",
   "execution_count": 176,
   "metadata": {
    "collapsed": false
   },
   "outputs": [],
   "source": [
    "#simulation of printinh task\n",
    "\n",
    "from random import randrange\n",
    "def simulation(printer, total_time):\n",
    "    tasks = Queue()\n",
    "    waiting_times = []\n",
    "    for current_second in range(total_time):\n",
    "        #for every second in total_time\n",
    "        \n",
    "        #create a random new task in every 180 seconds and add it to the queue\n",
    "        if randrange(4) == 3:\n",
    "            tasks.enque(Task(randrange(20), current_second))\n",
    "            \n",
    "        if not printer.has_task() and tasks.size()>0:\n",
    "            printer.set_task(tasks.deque())\n",
    "        \n",
    "            \n",
    "        \n",
    "        #increment the time every second for the current running task\n",
    "        \n",
    "        \n",
    "        #check if the task is complete \n",
    "        if printer.is_complete():\n",
    "            #add the waiting time to the list for the task\n",
    "            wait_time = printer.task.get_wait_time(current_second)\n",
    "            waiting_times.append(wait_time)\n",
    "            \n",
    "            #delete the task from the printer\n",
    "            printer.task = None\n",
    "            \n",
    "            #now add the new task\n",
    "            \n",
    "            \n",
    "            \n",
    "        printer.tick()\n",
    "        \n",
    "    average_time = sum(waiting_times)/ len(waiting_times)\n",
    "    return 'The average time for {!r} is {!r} and remaining tasks is {!r}'.format(len(waiting_times), average_time, tasks.size())    \n",
    "    "
   ]
  },
  {
   "cell_type": "code",
   "execution_count": 177,
   "metadata": {
    "collapsed": false
   },
   "outputs": [
    {
     "ename": "AttributeError",
     "evalue": "'NoneType' object has no attribute 'get_wait_time'",
     "output_type": "error",
     "traceback": [
      "\u001b[0;31m---------------------------------------------------------------------------\u001b[0m",
      "\u001b[0;31mAttributeError\u001b[0m                            Traceback (most recent call last)",
      "\u001b[0;32m<ipython-input-177-d14657ee86b0>\u001b[0m in \u001b[0;36m<module>\u001b[0;34m()\u001b[0m\n\u001b[1;32m      3\u001b[0m \u001b[0mtotal_time\u001b[0m \u001b[0;34m=\u001b[0m \u001b[0;36m36000\u001b[0m \u001b[0;31m#60 minutes\u001b[0m\u001b[0;34m\u001b[0m\u001b[0m\n\u001b[1;32m      4\u001b[0m \u001b[0;32mfor\u001b[0m \u001b[0mi\u001b[0m \u001b[0;32min\u001b[0m \u001b[0mrange\u001b[0m\u001b[0;34m(\u001b[0m\u001b[0;36m20\u001b[0m\u001b[0;34m)\u001b[0m\u001b[0;34m:\u001b[0m\u001b[0;34m\u001b[0m\u001b[0m\n\u001b[0;32m----> 5\u001b[0;31m     \u001b[0mprint\u001b[0m\u001b[0;34m(\u001b[0m\u001b[0msimulation\u001b[0m\u001b[0;34m(\u001b[0m\u001b[0mprinter\u001b[0m\u001b[0;34m,\u001b[0m \u001b[0mtotal_time\u001b[0m\u001b[0;34m)\u001b[0m\u001b[0;34m)\u001b[0m\u001b[0;34m\u001b[0m\u001b[0m\n\u001b[0m",
      "\u001b[0;32m<ipython-input-176-cc86f6c245d7>\u001b[0m in \u001b[0;36msimulation\u001b[0;34m(printer, total_time)\u001b[0m\n\u001b[1;32m     23\u001b[0m         \u001b[0;32mif\u001b[0m \u001b[0mprinter\u001b[0m\u001b[0;34m.\u001b[0m\u001b[0mis_complete\u001b[0m\u001b[0;34m(\u001b[0m\u001b[0;34m)\u001b[0m\u001b[0;34m:\u001b[0m\u001b[0;34m\u001b[0m\u001b[0m\n\u001b[1;32m     24\u001b[0m             \u001b[0;31m#add the waiting time to the list for the task\u001b[0m\u001b[0;34m\u001b[0m\u001b[0;34m\u001b[0m\u001b[0m\n\u001b[0;32m---> 25\u001b[0;31m             \u001b[0mwait_time\u001b[0m \u001b[0;34m=\u001b[0m \u001b[0mprinter\u001b[0m\u001b[0;34m.\u001b[0m\u001b[0mtask\u001b[0m\u001b[0;34m.\u001b[0m\u001b[0mget_wait_time\u001b[0m\u001b[0;34m(\u001b[0m\u001b[0mcurrent_second\u001b[0m\u001b[0;34m)\u001b[0m\u001b[0;34m\u001b[0m\u001b[0m\n\u001b[0m\u001b[1;32m     26\u001b[0m             \u001b[0mwaiting_times\u001b[0m\u001b[0;34m.\u001b[0m\u001b[0mappend\u001b[0m\u001b[0;34m(\u001b[0m\u001b[0mwait_time\u001b[0m\u001b[0;34m)\u001b[0m\u001b[0;34m\u001b[0m\u001b[0m\n\u001b[1;32m     27\u001b[0m \u001b[0;34m\u001b[0m\u001b[0m\n",
      "\u001b[0;31mAttributeError\u001b[0m: 'NoneType' object has no attribute 'get_wait_time'"
     ]
    }
   ],
   "source": [
    "#create a 20 simulation\n",
    "printer = Printer(122)\n",
    "total_time = 36000 #60 minutes\n",
    "for i in range(20):\n",
    "    print(simulation(printer, total_time))"
   ]
  },
  {
   "cell_type": "code",
   "execution_count": 146,
   "metadata": {
    "collapsed": false
   },
   "outputs": [
    {
     "data": {
      "text/plain": [
       "0"
      ]
     },
     "execution_count": 146,
     "metadata": {},
     "output_type": "execute_result"
    }
   ],
   "source": [
    "randrange(4)"
   ]
  }
 ],
 "metadata": {
  "anaconda-cloud": {},
  "kernelspec": {
   "display_name": "Python [conda root]",
   "language": "python",
   "name": "conda-root-py"
  },
  "language_info": {
   "codemirror_mode": {
    "name": "ipython",
    "version": 3
   },
   "file_extension": ".py",
   "mimetype": "text/x-python",
   "name": "python",
   "nbconvert_exporter": "python",
   "pygments_lexer": "ipython3",
   "version": "3.5.2"
  }
 },
 "nbformat": 4,
 "nbformat_minor": 1
}
