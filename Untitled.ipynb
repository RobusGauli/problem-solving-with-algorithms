{
 "cells": [
  {
   "cell_type": "code",
   "execution_count": 44,
   "metadata": {
    "collapsed": false
   },
   "outputs": [],
   "source": [
    "class Stack(object):\n",
    "    def __init__(self, iterable=None):\n",
    "        self.alist = list(iterable) if iterable else []\n",
    "    \n",
    "    def push(self, item):\n",
    "        self.alist.append(item)\n",
    "        \n",
    "    def pop(self):\n",
    "        if len(self.alist) > 0:\n",
    "                self.alist.pop(len(self.alist)-1)\n",
    "        else:\n",
    "            raise ValueError('Stack is empty')\n",
    "    def seek(self):\n",
    "        if len(self.alist) > 0 :\n",
    "            return self.alist[len(self.alist)-1]\n",
    "        else:\n",
    "            raise ValueError('Stack is empty')\n",
    "        \n",
    "    def is_empty(self):\n",
    "        return self.alist == []\n",
    "    \n",
    "    def __repr__(self):\n",
    "        return ', '.join(str(i) for i in self.alist)"
   ]
  },
  {
   "cell_type": "code",
   "execution_count": 59,
   "metadata": {
    "collapsed": false
   },
   "outputs": [],
   "source": [
    "def match(symbol, to_match):\n",
    "    symbols = ')}]'\n",
    "    opps = '({['\n",
    "    return opps.index(to_match) == symbols.index(symbol)\n",
    "    \n",
    "\n",
    "def checker(symbols=None):\n",
    "    if symbols is None:\n",
    "        raise Exception('Please enter the symbols to check')\n",
    "    s = Stack()\n",
    "    for symbol in symbols:\n",
    "        if symbol in '{[(':\n",
    "            s.push(symbol)\n",
    "        elif symbol in '}])' and not s.is_empty() and match(symbol, s.seek()):\n",
    "            s.pop()\n",
    "    if s.is_empty():\n",
    "        return True\n",
    "    else:\n",
    "        return False\n",
    "\n",
    "            "
   ]
  },
  {
   "cell_type": "code",
   "execution_count": 4,
   "metadata": {
    "collapsed": false
   },
   "outputs": [
    {
     "name": "stdout",
     "output_type": "stream",
     "text": [
      "CPU times: user 3 µs, sys: 0 ns, total: 3 µs\n",
      "Wall time: 6.91 µs\n"
     ]
    }
   ],
   "source": [
    "%time\n",
    "alist = [i for i in range(100000000)]"
   ]
  }
 ],
 "metadata": {
  "anaconda-cloud": {},
  "kernelspec": {
   "display_name": "Python [conda root]",
   "language": "python",
   "name": "conda-root-py"
  },
  "language_info": {
   "codemirror_mode": {
    "name": "ipython",
    "version": 3
   },
   "file_extension": ".py",
   "mimetype": "text/x-python",
   "name": "python",
   "nbconvert_exporter": "python",
   "pygments_lexer": "ipython3",
   "version": "3.5.2"
  }
 },
 "nbformat": 4,
 "nbformat_minor": 1
}
