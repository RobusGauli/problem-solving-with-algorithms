{
 "cells": [
  {
   "cell_type": "code",
   "execution_count": 3,
   "metadata": {
    "collapsed": true
   },
   "outputs": [],
   "source": [
    "#STACK -- > LIFO --> Last in first out\n",
    "#STRUCURE AND OPERATION ON THE STACK\n",
    "\n",
    "#Stack() creates a empty stack\n",
    "#push(item ) adds the new item in the stack\n",
    "#pop() remvoes the item from the end\n",
    "#is_empty() checks if the stack is empty\n",
    "#size() returs the size of the stack"
   ]
  },
  {
   "cell_type": "code",
   "execution_count": 25,
   "metadata": {
    "collapsed": false
   },
   "outputs": [
    {
     "ename": "TypeError",
     "evalue": "'list' object is not callable",
     "output_type": "error",
     "traceback": [
      "\u001b[0;31m---------------------------------------------------------------------------\u001b[0m",
      "\u001b[0;31mTypeError\u001b[0m                                 Traceback (most recent call last)",
      "\u001b[0;32m<ipython-input-25-cd148a4fdbb1>\u001b[0m in \u001b[0;36m<module>\u001b[0;34m()\u001b[0m\n\u001b[0;32m----> 1\u001b[0;31m \u001b[0mlist\u001b[0m\u001b[0;34m(\u001b[0m\u001b[0;34m[\u001b[0m\u001b[0;36m3\u001b[0m\u001b[0;34m,\u001b[0m\u001b[0;36m4\u001b[0m\u001b[0;34m,\u001b[0m\u001b[0;36m5\u001b[0m\u001b[0;34m]\u001b[0m\u001b[0;34m)\u001b[0m\u001b[0;34m\u001b[0m\u001b[0m\n\u001b[0m",
      "\u001b[0;31mTypeError\u001b[0m: 'list' object is not callable"
     ]
    }
   ],
   "source": [
    "list([3,4,5])"
   ]
  },
  {
   "cell_type": "code",
   "execution_count": 1,
   "metadata": {
    "collapsed": true
   },
   "outputs": [],
   "source": [
    "#creatint a que data strucutre\n"
   ]
  },
  {
   "cell_type": "code",
   "execution_count": 102,
   "metadata": {
    "collapsed": false
   },
   "outputs": [],
   "source": [
    "class Queue(object):\n",
    "    \n",
    "    def __init__(self, alist=None):\n",
    "        self._alist = list(alist) if alist else []\n",
    "    \n",
    "    def enque(self, item):\n",
    "        if item:\n",
    "            self._alist.insert(0, item)\n",
    "            \n",
    "    def deque(self):\n",
    "        if len(self._alist) > 0:\n",
    "            return self._alist.pop()\n",
    "        else:\n",
    "            raise Exception('Queue is empty')\n",
    "            \n",
    "    def size(self):\n",
    "        return len(self._alist)\n",
    "    \n",
    "    def seek(self):\n",
    "        if len(self._alist)>1:\n",
    "            return self._alist[len(self._alist)-1]\n",
    "    \n",
    "    def __contains__(self, item):\n",
    "        return item in self._alist\n",
    "    \n",
    "    \n",
    "    \n",
    "    def __getitem__(self, pos):\n",
    "        return self._alist[pos]\n",
    "   \n",
    "        \n",
    "    \n",
    "    \n",
    "  "
   ]
  },
  {
   "cell_type": "code",
   "execution_count": 103,
   "metadata": {
    "collapsed": false
   },
   "outputs": [],
   "source": [
    "q = Queue([4,5,6,78])"
   ]
  },
  {
   "cell_type": "code",
   "execution_count": 262,
   "metadata": {
    "collapsed": true
   },
   "outputs": [],
   "source": [
    "#simulation of the qpirinter\n",
    "import random\n",
    "class Task(object):\n",
    "    def __init__(self, timestamp):\n",
    "        self.timestamp = timestamp\n",
    "        self.pages = random.randrange(21)\n",
    "        \n",
    "    def  get_timestamp(self):\n",
    "        return self.timestamp\n",
    "    \n",
    "    def set_timestamp(self, timestamp):\n",
    "        self.timestamp = timestamp\n",
    "        #making the methods chahinable\n",
    "        return self\n",
    "    \n",
    "    def get_waiting_time(self, current_time):\n",
    "        return current_time - self.timestamp\n"
   ]
  },
  {
   "cell_type": "code",
   "execution_count": 263,
   "metadata": {
    "collapsed": true
   },
   "outputs": [],
   "source": [
    "class Printer(object):\n",
    "    \n",
    "    def __init__(self, ppm):\n",
    "        self.ppm = ppm\n",
    "        self.task = None\n",
    "        self.waiting_time = 0 \n",
    "        \n",
    "    def set_task(self, task):\n",
    "        self.task = task\n",
    "        #wwaiting time in seconds\n",
    "        self.waiting_time = (60 / self.ppm) * self.task.pages \n",
    "        \n",
    "    def tick(self):\n",
    "        if self.task:\n",
    "            self.waiting_time -= 1\n",
    "        \n",
    "    \n",
    "    def has_task(self):\n",
    "        return bool(self.task)\n",
    "    \n",
    "    def remove_task(self):\n",
    "        if self.task:\n",
    "            self.task = None\n",
    "            self.waiting_time = 0\n",
    "            \n",
    "            ##reseting the printer"
   ]
  },
  {
   "cell_type": "code",
   "execution_count": 264,
   "metadata": {
    "collapsed": true
   },
   "outputs": [],
   "source": [
    "def simulation():\n",
    "    \n",
    "    q = Queue()\n",
    "    \n",
    "    #creata a printer object\n",
    "    printer = Printer(5)\n",
    "    \n",
    "    #create a list of waiting times to get the average\n",
    "    waiting_times = []\n",
    "    \n",
    "    #lets run the printer for 60 minutes\n",
    "    for current_time in range(3600):\n",
    "        \n",
    "        #create a new task in every 40 seconds in average using the random\n",
    "        if int(random.randrange(1, 181)) == 180:\n",
    "            #create n new task and add it to the queue\n",
    "            task = Task(current_time)\n",
    "            #add the task to the queue\n",
    "            q.enque(task)\n",
    "        \n",
    "        #check the status of the printer if it is empty then deque the task from the q and add to the printer\n",
    "        if not printer.has_task() and q.size() > 1:\n",
    "            printer.set_task(q.deque())\n",
    "            \n",
    "        #release the task from the printer if the waiting time is less than 0\n",
    "        if printer.has_task() and printer.waiting_time < 0:\n",
    "            #put the total waiting time for the task to the list of waiting time\n",
    "            waiting_times.append(printer.task.get_waiting_time(current_time))\n",
    "            printer.remove_task()\n",
    "        \n",
    "        #always tick the pritner \n",
    "        printer.tick()\n",
    "        \n",
    "    print('Total tasks in the queue: {}'.format(len(waiting_times) + q.size()))\n",
    "    print('Total tasks completer: {}'.format(len(waiting_times)))\n",
    "    print('Average waiting time for a task : {}'.format(sum(waiting_times)/ len(waiting_times)))\n",
    "        "
   ]
  },
  {
   "cell_type": "code",
   "execution_count": 265,
   "metadata": {
    "collapsed": false
   },
   "outputs": [
    {
     "name": "stdout",
     "output_type": "stream",
     "text": [
      "Total tasks in the queue: 18\n",
      "Total tasks completer: 16\n",
      "Average waiting time for a task : 440.375\n",
      "Total tasks in the queue: 12\n",
      "Total tasks completer: 11\n",
      "Average waiting time for a task : 489.1818181818182\n",
      "Total tasks in the queue: 18\n",
      "Total tasks completer: 16\n",
      "Average waiting time for a task : 376.5625\n",
      "Total tasks in the queue: 14\n",
      "Total tasks completer: 13\n",
      "Average waiting time for a task : 323.61538461538464\n",
      "Total tasks in the queue: 16\n",
      "Total tasks completer: 12\n",
      "Average waiting time for a task : 405.1666666666667\n",
      "Total tasks in the queue: 18\n",
      "Total tasks completer: 12\n",
      "Average waiting time for a task : 439.0\n",
      "Total tasks in the queue: 11\n",
      "Total tasks completer: 9\n",
      "Average waiting time for a task : 406.3333333333333\n",
      "Total tasks in the queue: 23\n",
      "Total tasks completer: 19\n",
      "Average waiting time for a task : 788.7894736842105\n",
      "Total tasks in the queue: 21\n",
      "Total tasks completer: 20\n",
      "Average waiting time for a task : 619.0\n",
      "Total tasks in the queue: 18\n",
      "Total tasks completer: 17\n",
      "Average waiting time for a task : 350.70588235294116\n"
     ]
    }
   ],
   "source": [
    "for i in range(10):\n",
    "    simulation()"
   ]
  },
  {
   "cell_type": "code",
   "execution_count": 114,
   "metadata": {
    "collapsed": true
   },
   "outputs": [],
   "source": [
    "qw = Queue()"
   ]
  },
  {
   "cell_type": "code",
   "execution_count": 115,
   "metadata": {
    "collapsed": true
   },
   "outputs": [],
   "source": [
    "qw.enque(34)"
   ]
  },
  {
   "cell_type": "code",
   "execution_count": 116,
   "metadata": {
    "collapsed": false
   },
   "outputs": [
    {
     "data": {
      "text/plain": [
       "34"
      ]
     },
     "execution_count": 116,
     "metadata": {},
     "output_type": "execute_result"
    }
   ],
   "source": [
    "qw.deque()"
   ]
  }
 ],
 "metadata": {
  "anaconda-cloud": {},
  "kernelspec": {
   "display_name": "Python [conda root]",
   "language": "python",
   "name": "conda-root-py"
  },
  "language_info": {
   "codemirror_mode": {
    "name": "ipython",
    "version": 3
   },
   "file_extension": ".py",
   "mimetype": "text/x-python",
   "name": "python",
   "nbconvert_exporter": "python",
   "pygments_lexer": "ipython3",
   "version": "3.5.2"
  }
 },
 "nbformat": 4,
 "nbformat_minor": 1
}
